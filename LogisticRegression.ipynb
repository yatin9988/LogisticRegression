{
 "cells": [
  {
   "cell_type": "code",
   "execution_count": 2,
   "metadata": {},
   "outputs": [],
   "source": [
    "import numpy as np\n",
    "import matplotlib.pyplot as plt\n",
    "import pandas as pd"
   ]
  },
  {
   "cell_type": "code",
   "execution_count": 7,
   "metadata": {},
   "outputs": [],
   "source": [
    "def hypothesis(x,theta):\n",
    "    h1 = np.dot(x,theta)\n",
    "    return 1/(1+np.exp(-h1))"
   ]
  },
  {
   "cell_type": "code",
   "execution_count": 8,
   "metadata": {},
   "outputs": [],
   "source": [
    "def error(X,Y,theta):\n",
    "    \n",
    "    m,n = X.shape\n",
    "    err = 0\n",
    "    for i in range(m):\n",
    "        hx = hypothesis(X[i],theta)\n",
    "        term += Y[i]*np.log(hypothesis(X[i],hx)) + (1-Y[i])*(1-hypothesis(X[i],hx))\n",
    "    return -term    "
   ]
  },
  {
   "cell_type": "code",
   "execution_count": 9,
   "metadata": {},
   "outputs": [],
   "source": [
    "def gradient(X,Y,theta):\n",
    "    \n",
    "    m,n = X.shape\n",
    "    grad = np.zeros((n,))\n",
    "    for i in range(m):\n",
    "        hx = hypothesis(X[i],theta)\n",
    "        for j in range(n):\n",
    "            grad[j]+=(hx-Y[i])*X[i][j]\n",
    "            \n",
    "    return grad        "
   ]
  },
  {
   "cell_type": "code",
   "execution_count": 11,
   "metadata": {},
   "outputs": [],
   "source": [
    "def gradient_descent(X,Y,lr=0.1,max_itr=100):\n",
    "    \n",
    "    m,n = X.shape\n",
    "    err_list = []\n",
    "    theta = np.zeros((n,))\n",
    "    \n",
    "    for i in range(max_itr):\n",
    "        \n",
    "        err = error(X,Y,theta)\n",
    "        err_list.append(err)\n",
    "        grad = gradient(X,Y,theta)\n",
    "        \n",
    "        for j in range(n):\n",
    "            theta[j] = theta[j] - lr*grad[j]\n",
    "    return theta,err_list        "
   ]
  },
  {
   "cell_type": "code",
   "execution_count": null,
   "metadata": {},
   "outputs": [],
   "source": []
  }
 ],
 "metadata": {
  "kernelspec": {
   "display_name": "Python 3",
   "language": "python",
   "name": "python3"
  },
  "language_info": {
   "codemirror_mode": {
    "name": "ipython",
    "version": 3
   },
   "file_extension": ".py",
   "mimetype": "text/x-python",
   "name": "python",
   "nbconvert_exporter": "python",
   "pygments_lexer": "ipython3",
   "version": "3.7.1"
  }
 },
 "nbformat": 4,
 "nbformat_minor": 2
}
